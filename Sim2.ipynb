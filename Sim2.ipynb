{
  "nbformat": 4,
  "nbformat_minor": 0,
  "metadata": {
    "colab": {
      "name": "Sim2.ipynb",
      "provenance": [],
      "toc_visible": true,
      "authorship_tag": "ABX9TyOLySKsdW6HSX8idvNtukj1",
      "include_colab_link": true
    },
    "kernelspec": {
      "name": "python3",
      "display_name": "Python 3"
    },
    "accelerator": "GPU"
  },
  "cells": [
    {
      "cell_type": "markdown",
      "metadata": {
        "id": "view-in-github",
        "colab_type": "text"
      },
      "source": [
        "<a href=\"https://colab.research.google.com/github/udaymallappa/learning-to-route/blob/master/Sim2.ipynb\" target=\"_parent\"><img src=\"https://colab.research.google.com/assets/colab-badge.svg\" alt=\"Open In Colab\"/></a>"
      ]
    },
    {
      "cell_type": "code",
      "metadata": {
        "id": "oaWV2hTEcGrz",
        "colab_type": "code",
        "colab": {
          "base_uri": "https://localhost:8080/",
          "height": 102
        },
        "outputId": "7de4687e-4bf2-4874-c420-6b63142ae5b8"
      },
      "source": [
        "!git clone --recursive https://github.com/udaymallappa/learning-to-route.git"
      ],
      "execution_count": 1,
      "outputs": [
        {
          "output_type": "stream",
          "text": [
            "Cloning into 'learning-to-route'...\n",
            "remote: Enumerating objects: 105, done.\u001b[K\n",
            "remote: Total 105 (delta 0), reused 0 (delta 0), pack-reused 105\u001b[K\n",
            "Receiving objects: 100% (105/105), 1.60 MiB | 3.54 MiB/s, done.\n",
            "Resolving deltas: 100% (40/40), done.\n"
          ],
          "name": "stdout"
        }
      ]
    },
    {
      "cell_type": "code",
      "metadata": {
        "id": "JNdSPvBfcblu",
        "colab_type": "code",
        "colab": {}
      },
      "source": [
        "import os, sys\n",
        "sys.path.append('..')\n",
        "import numpy as np\n",
        "import torch\n",
        "import joblib\n",
        "from datetime import datetime"
      ],
      "execution_count": 0,
      "outputs": []
    },
    {
      "cell_type": "code",
      "metadata": {
        "id": "WJFJ2y0Gc-p_",
        "colab_type": "code",
        "colab": {
          "base_uri": "https://localhost:8080/",
          "height": 768
        },
        "outputId": "570869d0-92a3-4d05-c4f9-7298aef9ea6a"
      },
      "source": [
        "!env CUDA_VISIBLE_DEVICES=1\n",
        "print(\"Numpy: {}, Torch: {}, Joblib: {}\".format(np.__version__, torch.__version__, joblib.__version__))"
      ],
      "execution_count": 3,
      "outputs": [
        {
          "output_type": "stream",
          "text": [
            "CUDNN_VERSION=7.6.5.32\n",
            "__EGL_VENDOR_LIBRARY_DIRS=/usr/lib64-nvidia:/usr/share/glvnd/egl_vendor.d/\n",
            "LD_LIBRARY_PATH=/usr/lib64-nvidia\n",
            "_=/usr/bin/env\n",
            "LANG=en_US.UTF-8\n",
            "HOSTNAME=45d82ab359bf\n",
            "OLDPWD=/\n",
            "CLOUDSDK_CONFIG=/content/.config\n",
            "KMP_INIT_AT_FORK=FALSE\n",
            "NVIDIA_VISIBLE_DEVICES=all\n",
            "DATALAB_SETTINGS_OVERRIDES={\"kernelManagerProxyPort\":6000,\"kernelManagerProxyHost\":\"172.28.0.3\",\"jupyterArgs\":[\"--ip=\\\"172.28.0.2\\\"\"]}\n",
            "ENV=/root/.bashrc\n",
            "PAGER=cat\n",
            "NCCL_VERSION=2.4.8\n",
            "TF_FORCE_GPU_ALLOW_GROWTH=true\n",
            "JPY_PARENT_PID=26\n",
            "NO_GCE_CHECK=True\n",
            "PWD=/content\n",
            "HOME=/root\n",
            "LAST_FORCED_REBUILD=20200204\n",
            "CLICOLOR=1\n",
            "DEBIAN_FRONTEND=noninteractive\n",
            "LIBRARY_PATH=/usr/local/cuda/lib64/stubs\n",
            "GLIBCPP_FORCE_NEW=1\n",
            "TBE_CREDS_ADDR=172.28.0.1:8008\n",
            "TERM=xterm-color\n",
            "SHELL=/bin/bash\n",
            "GCS_READ_CACHE_BLOCK_SIZE_MB=16\n",
            "PYTHONWARNINGS=ignore:::pip._internal.cli.base_command\n",
            "MPLBACKEND=module://ipykernel.pylab.backend_inline\n",
            "CUDA_PKG_VERSION=10-1=10.1.243-1\n",
            "CUDA_VERSION=10.1.243\n",
            "NVIDIA_DRIVER_CAPABILITIES=compute,utility\n",
            "SHLVL=2\n",
            "PYTHONPATH=/env/python\n",
            "NVIDIA_REQUIRE_CUDA=cuda>=10.1 brand=tesla,driver>=384,driver<385 brand=tesla,driver>=396,driver<397 brand=tesla,driver>=410,driver<411\n",
            "COLAB_GPU=1\n",
            "GLIBCXX_FORCE_NEW=1\n",
            "PATH=/usr/local/nvidia/bin:/usr/local/cuda/bin:/usr/local/sbin:/usr/local/bin:/usr/sbin:/usr/bin:/sbin:/bin:/tools/node/bin:/tools/google-cloud-sdk/bin:/opt/bin\n",
            "LD_PRELOAD=/usr/lib/x86_64-linux-gnu/libtcmalloc.so.4\n",
            "GIT_PAGER=cat\n",
            "CUDA_VISIBLE_DEVICES=1\n",
            "Numpy: 1.17.5, Torch: 1.4.0, Joblib: 0.14.1\n"
          ],
          "name": "stdout"
        }
      ]
    },
    {
      "cell_type": "code",
      "metadata": {
        "id": "z66PJ__UdBId",
        "colab_type": "code",
        "colab": {
          "base_uri": "https://localhost:8080/",
          "height": 853
        },
        "outputId": "e978ef48-98a0-48a8-ee5b-ee2b3b8723fe"
      },
      "source": [
        "DATA_DIR = './data/DEEP100K'\n",
        "\n",
        "if not os.path.exists(DATA_DIR):\n",
        "    assert not DATA_DIR.endswith(os.sep), 'please do not put \"/\" at the end of DATA_DIR'\n",
        "    !mkdir -p {DATA_DIR}\n",
        "    !wget https://www.dropbox.com/sh/oc8tswkzrdqe4vi/AADSOL74QIBtg_EvOdBYOX3na?dl=1 -O {DATA_DIR}/deep_100k.zip\n",
        "    !cd {DATA_DIR} && unzip deep_100k.zip"
      ],
      "execution_count": 4,
      "outputs": [
        {
          "output_type": "stream",
          "text": [
            "--2020-02-11 06:39:53--  https://www.dropbox.com/sh/oc8tswkzrdqe4vi/AADSOL74QIBtg_EvOdBYOX3na?dl=1\n",
            "Resolving www.dropbox.com (www.dropbox.com)... 162.125.65.1, 2620:100:6021:1::a27d:4101\n",
            "Connecting to www.dropbox.com (www.dropbox.com)|162.125.65.1|:443... connected.\n",
            "HTTP request sent, awaiting response... 301 Moved Permanently\n",
            "Location: /sh/dl/oc8tswkzrdqe4vi/AADSOL74QIBtg_EvOdBYOX3na [following]\n",
            "--2020-02-11 06:39:53--  https://www.dropbox.com/sh/dl/oc8tswkzrdqe4vi/AADSOL74QIBtg_EvOdBYOX3na\n",
            "Reusing existing connection to www.dropbox.com:443.\n",
            "HTTP request sent, awaiting response... 302 Found\n",
            "Location: https://uc69136df73a7a2318be62ec0753.dl.dropboxusercontent.com/zip_download_get/AVS98_AyjlmrzSHFz40l1Jlw975gzEfts3rgB9fcXjQ0QPq_e7H52Q1F2GFRabJX9UehYI-QFTQg6d03RITi9eW52NkCKjZ9nW4RXUZiBC-gXQ?dl=1 [following]\n",
            "--2020-02-11 06:39:54--  https://uc69136df73a7a2318be62ec0753.dl.dropboxusercontent.com/zip_download_get/AVS98_AyjlmrzSHFz40l1Jlw975gzEfts3rgB9fcXjQ0QPq_e7H52Q1F2GFRabJX9UehYI-QFTQg6d03RITi9eW52NkCKjZ9nW4RXUZiBC-gXQ?dl=1\n",
            "Resolving uc69136df73a7a2318be62ec0753.dl.dropboxusercontent.com (uc69136df73a7a2318be62ec0753.dl.dropboxusercontent.com)... 162.125.65.6, 2620:100:6021:6::a27d:4106\n",
            "Connecting to uc69136df73a7a2318be62ec0753.dl.dropboxusercontent.com (uc69136df73a7a2318be62ec0753.dl.dropboxusercontent.com)|162.125.65.6|:443... connected.\n",
            "HTTP request sent, awaiting response... 200 OK\n",
            "Length: 179049200 (171M) [application/zip]\n",
            "Saving to: ‘./data/DEEP100K/deep_100k.zip’\n",
            "\n",
            "./data/DEEP100K/dee 100%[===================>] 170.75M  7.26MB/s    in 17s     \n",
            "\n",
            "2020-02-11 06:40:12 (9.79 MB/s) - ‘./data/DEEP100K/deep_100k.zip’ saved [179049200/179049200]\n",
            "\n",
            "Archive:  deep_100k.zip\n",
            "warning:  stripped absolute path spec from /\n",
            "mapname:  conversion of  failed\n",
            " extracting: pca48.bin               \n",
            " extracting: pca24.bin               \n",
            " extracting: test_gt.ivecs           \n",
            " extracting: train_gt.ivecs          \n",
            " extracting: deep_base.fvecs         \n",
            " extracting: deep_query.fvecs        \n",
            " extracting: deep_learn.fvecs        \n",
            " extracting: deep_base_pca48.fvecs   \n",
            " extracting: deep_base_pca24.fvecs   \n",
            " extracting: deep_learn_pca48.fvecs  \n",
            " extracting: deep_query_pca48.fvecs  \n",
            " extracting: deep_learn_pca24.fvecs  \n",
            " extracting: deep_query_pca24.fvecs  \n",
            " extracting: test_hnsw100k_M8_ef300_onelevel1.bin  \n",
            " extracting: test_hnsw100k_M8_ef300_onelevel0.bin  \n",
            " extracting: test_hnsw100k_M8_ef300_onelevel1.ivecs  \n",
            " extracting: test_hnsw100k_M8_ef300_onelevel0.ivecs  \n",
            " extracting: test_hnsw100k_M8_ef300_onelevel1_pca48.bin  \n",
            " extracting: test_hnsw100k_M8_ef300_onelevel0_pca48.bin  \n",
            " extracting: test_hnsw100k_M8_ef300_onelevel0_pca24.bin  \n",
            " extracting: test_hnsw100k_M8_ef300_onelevel1_pca24.bin  \n",
            " extracting: test_hnsw100k_M8_ef300_onelevel0_pca48.ivecs  \n",
            " extracting: test_hnsw100k_M8_ef300_onelevel1_pca48.ivecs  \n",
            " extracting: test_hnsw100k_M8_ef300_onelevel1_pca24.ivecs  \n",
            " extracting: test_hnsw100k_M8_ef300_onelevel0_pca24.ivecs  \n"
          ],
          "name": "stdout"
        }
      ]
    },
    {
      "cell_type": "code",
      "metadata": {
        "id": "Y9_ihYjRdDyt",
        "colab_type": "code",
        "colab": {}
      },
      "source": [
        "import os.path as osp\n",
        "\n",
        "graph_params = { \n",
        "    'vertices_path': osp.join(DATA_DIR, 'deep_base.fvecs'),\n",
        "    'edges_path': osp.join(DATA_DIR, 'test_hnsw100k_M8_ef300_onelevel1.ivecs'),\n",
        "    'initial_vertex_id': 0,         # by default, starts search from this vertex\n",
        "#     'edges_path': osp.join(DATA_DIR, 'test_hnsw100k_M8_ef300_onelevel0.ivecs'),\n",
        "#     'info_path': osp.join(DATA_DIR, 'test_hnsw100k_M8_ef300_onelevel0.bin'),\n",
        "#     ^-- uncomment this to get hierarchical NSW\n",
        "    \n",
        "    'train_queries_path': osp.join(DATA_DIR, 'deep_learn.fvecs'),\n",
        "    'test_queries_path': osp.join(DATA_DIR, 'deep_query.fvecs'),\n",
        "    \n",
        "    'train_gt_path': osp.join(DATA_DIR, 'train_gt.ivecs'),\n",
        "    'test_gt_path': osp.join(DATA_DIR, 'test_gt.ivecs'),\n",
        "#     ^-- comment these 2 lines to re-compute ground truth ids (if you don't have pre-computed ground truths)\n",
        "\n",
        "    'ground_truth_n_neighbors': 1,  # for each query, finds this many nearest neighbors via brute force\n",
        "}\n",
        "\n"
      ],
      "execution_count": 0,
      "outputs": []
    },
    {
      "cell_type": "code",
      "metadata": {
        "id": "6ZePfT7S-lwO",
        "colab_type": "code",
        "colab": {
          "base_uri": "https://localhost:8080/",
          "height": 34
        },
        "outputId": "aa03ee13-5c4b-418c-e459-d5c0f4ea7d60"
      },
      "source": [
        "!pwd"
      ],
      "execution_count": 6,
      "outputs": [
        {
          "output_type": "stream",
          "text": [
            "/content\n"
          ],
          "name": "stdout"
        }
      ]
    },
    {
      "cell_type": "code",
      "metadata": {
        "id": "g7THRVWjeLww",
        "colab_type": "code",
        "colab": {
          "base_uri": "https://localhost:8080/",
          "height": 34
        },
        "outputId": "430b9b4d-8c50-49ee-9ff9-2879b59b8748"
      },
      "source": [
        "%cd learning-to-route/"
      ],
      "execution_count": 7,
      "outputs": [
        {
          "output_type": "stream",
          "text": [
            "/content/learning-to-route\n"
          ],
          "name": "stdout"
        }
      ]
    },
    {
      "cell_type": "code",
      "metadata": {
        "id": "UzUOshRBdG_s",
        "colab_type": "code",
        "colab": {
          "base_uri": "https://localhost:8080/",
          "height": 190
        },
        "outputId": "244f7350-963b-4a46-fbd4-1ac2869c285b"
      },
      "source": [
        "!pip install tensorboardX"
      ],
      "execution_count": 8,
      "outputs": [
        {
          "output_type": "stream",
          "text": [
            "Collecting tensorboardX\n",
            "\u001b[?25l  Downloading https://files.pythonhosted.org/packages/35/f1/5843425495765c8c2dd0784a851a93ef204d314fc87bcc2bbb9f662a3ad1/tensorboardX-2.0-py2.py3-none-any.whl (195kB)\n",
            "\r\u001b[K     |█▊                              | 10kB 22.8MB/s eta 0:00:01\r\u001b[K     |███▍                            | 20kB 5.9MB/s eta 0:00:01\r\u001b[K     |█████                           | 30kB 8.4MB/s eta 0:00:01\r\u001b[K     |██████▊                         | 40kB 5.4MB/s eta 0:00:01\r\u001b[K     |████████▍                       | 51kB 6.5MB/s eta 0:00:01\r\u001b[K     |██████████                      | 61kB 7.7MB/s eta 0:00:01\r\u001b[K     |███████████▊                    | 71kB 8.8MB/s eta 0:00:01\r\u001b[K     |█████████████▍                  | 81kB 9.8MB/s eta 0:00:01\r\u001b[K     |███████████████                 | 92kB 10.8MB/s eta 0:00:01\r\u001b[K     |████████████████▊               | 102kB 8.7MB/s eta 0:00:01\r\u001b[K     |██████████████████▍             | 112kB 8.7MB/s eta 0:00:01\r\u001b[K     |████████████████████            | 122kB 8.7MB/s eta 0:00:01\r\u001b[K     |█████████████████████▊          | 133kB 8.7MB/s eta 0:00:01\r\u001b[K     |███████████████████████▌        | 143kB 8.7MB/s eta 0:00:01\r\u001b[K     |█████████████████████████▏      | 153kB 8.7MB/s eta 0:00:01\r\u001b[K     |██████████████████████████▉     | 163kB 8.7MB/s eta 0:00:01\r\u001b[K     |████████████████████████████▌   | 174kB 8.7MB/s eta 0:00:01\r\u001b[K     |██████████████████████████████▏ | 184kB 8.7MB/s eta 0:00:01\r\u001b[K     |███████████████████████████████▉| 194kB 8.7MB/s eta 0:00:01\r\u001b[K     |████████████████████████████████| 204kB 8.7MB/s \n",
            "\u001b[?25hRequirement already satisfied: numpy in /usr/local/lib/python3.6/dist-packages (from tensorboardX) (1.17.5)\n",
            "Requirement already satisfied: six in /usr/local/lib/python3.6/dist-packages (from tensorboardX) (1.12.0)\n",
            "Requirement already satisfied: protobuf>=3.8.0 in /usr/local/lib/python3.6/dist-packages (from tensorboardX) (3.10.0)\n",
            "Requirement already satisfied: setuptools in /usr/local/lib/python3.6/dist-packages (from protobuf>=3.8.0->tensorboardX) (45.1.0)\n",
            "Installing collected packages: tensorboardX\n",
            "Successfully installed tensorboardX-2.0\n"
          ],
          "name": "stdout"
        }
      ]
    },
    {
      "cell_type": "code",
      "metadata": {
        "id": "L4w3-2AikHNZ",
        "colab_type": "code",
        "colab": {
          "base_uri": "https://localhost:8080/",
          "height": 34
        },
        "outputId": "c09553a3-a786-42bc-9cc1-5c4de3264197"
      },
      "source": [
        "!pwd"
      ],
      "execution_count": 9,
      "outputs": [
        {
          "output_type": "stream",
          "text": [
            "/content/learning-to-route\n"
          ],
          "name": "stdout"
        }
      ]
    },
    {
      "cell_type": "code",
      "metadata": {
        "id": "dj47AMKLkq5Z",
        "colab_type": "code",
        "colab": {
          "base_uri": "https://localhost:8080/",
          "height": 632
        },
        "outputId": "eef9342b-0d12-4d32-a5fd-06a1165f1f39"
      },
      "source": [
        "!sudo apt-get install swig"
      ],
      "execution_count": 10,
      "outputs": [
        {
          "output_type": "stream",
          "text": [
            "Reading package lists... Done\n",
            "Building dependency tree       \n",
            "Reading state information... Done\n",
            "The following package was automatically installed and is no longer required:\n",
            "  libnvidia-common-430\n",
            "Use 'sudo apt autoremove' to remove it.\n",
            "The following additional packages will be installed:\n",
            "  swig3.0\n",
            "Suggested packages:\n",
            "  swig-doc swig-examples swig3.0-examples swig3.0-doc\n",
            "The following NEW packages will be installed:\n",
            "  swig swig3.0\n",
            "0 upgraded, 2 newly installed, 0 to remove and 25 not upgraded.\n",
            "Need to get 1,100 kB of archives.\n",
            "After this operation, 5,822 kB of additional disk space will be used.\n",
            "Get:1 http://archive.ubuntu.com/ubuntu bionic/universe amd64 swig3.0 amd64 3.0.12-1 [1,094 kB]\n",
            "Get:2 http://archive.ubuntu.com/ubuntu bionic/universe amd64 swig amd64 3.0.12-1 [6,460 B]\n",
            "Fetched 1,100 kB in 0s (8,895 kB/s)\n",
            "debconf: unable to initialize frontend: Dialog\n",
            "debconf: (No usable dialog-like program is installed, so the dialog based frontend cannot be used. at /usr/share/perl5/Debconf/FrontEnd/Dialog.pm line 76, <> line 2.)\n",
            "debconf: falling back to frontend: Readline\n",
            "debconf: unable to initialize frontend: Readline\n",
            "debconf: (This frontend requires a controlling tty.)\n",
            "debconf: falling back to frontend: Teletype\n",
            "dpkg-preconfigure: unable to re-open stdin: \n",
            "Selecting previously unselected package swig3.0.\n",
            "(Reading database ... 145113 files and directories currently installed.)\n",
            "Preparing to unpack .../swig3.0_3.0.12-1_amd64.deb ...\n",
            "Unpacking swig3.0 (3.0.12-1) ...\n",
            "Selecting previously unselected package swig.\n",
            "Preparing to unpack .../swig_3.0.12-1_amd64.deb ...\n",
            "Unpacking swig (3.0.12-1) ...\n",
            "Setting up swig3.0 (3.0.12-1) ...\n",
            "Setting up swig (3.0.12-1) ...\n",
            "Processing triggers for man-db (2.8.3-2ubuntu0.1) ...\n"
          ],
          "name": "stdout"
        }
      ]
    },
    {
      "cell_type": "code",
      "metadata": {
        "id": "mtYiIgc_-z4E",
        "colab_type": "code",
        "colab": {
          "base_uri": "https://localhost:8080/",
          "height": 34
        },
        "outputId": "90a94724-d476-4bee-d038-f94e2a66c963"
      },
      "source": [
        "!pwd"
      ],
      "execution_count": 11,
      "outputs": [
        {
          "output_type": "stream",
          "text": [
            "/content/learning-to-route\n"
          ],
          "name": "stdout"
        }
      ]
    },
    {
      "cell_type": "code",
      "metadata": {
        "id": "r7fRTTK5_HD9",
        "colab_type": "code",
        "colab": {}
      },
      "source": [
        "from lib1.utils import global_variables"
      ],
      "execution_count": 0,
      "outputs": []
    },
    {
      "cell_type": "code",
      "metadata": {
        "id": "7KSG5Hrpf1wm",
        "colab_type": "code",
        "colab": {
          "base_uri": "https://localhost:8080/",
          "height": 241
        },
        "outputId": "d9445954-f5e8-49ec-9fa0-575d844ccdb5"
      },
      "source": [
        "import lib1"
      ],
      "execution_count": 14,
      "outputs": [
        {
          "output_type": "stream",
          "text": [
            "running clean\n",
            "running build\n",
            "running build_ext\n",
            "building '_bfs' extension\n",
            "swigging bfs.i to bfs_wrap.c\n",
            "swig -python -threads -o bfs_wrap.c bfs.i\n",
            "creating build\n",
            "creating build/temp.linux-x86_64-3.6\n",
            "g++ -std=c++11 -DNDEBUG -g -fwrapv -O2 -Wall -g -fstack-protector-strong -Wformat -Werror=format-security -Wdate-time -D_FORTIFY_SOURCE=2 -fPIC -I/usr/local/lib/python3.6/dist-packages/numpy/core/include -I/usr/include/python3.6m -c bfs_wrap.c -o build/temp.linux-x86_64-3.6/bfs_wrap.o -fopenmp\n",
            "g++ -std=c++11 -DNDEBUG -g -fwrapv -O2 -Wall -g -fstack-protector-strong -Wformat -Werror=format-security -Wdate-time -D_FORTIFY_SOURCE=2 -fPIC -I/usr/local/lib/python3.6/dist-packages/numpy/core/include -I/usr/include/python3.6m -c bfs.cc -o build/temp.linux-x86_64-3.6/bfs.o -fopenmp\n",
            "creating build/lib.linux-x86_64-3.6\n",
            "x86_64-linux-gnu-g++ -pthread -shared -Wl,-O1 -Wl,-Bsymbolic-functions -Wl,-Bsymbolic-functions -Wl,-z,relro -Wl,-Bsymbolic-functions -Wl,-z,relro -g -fstack-protector-strong -Wformat -Werror=format-security -Wdate-time -D_FORTIFY_SOURCE=2 build/temp.linux-x86_64-3.6/bfs_wrap.o build/temp.linux-x86_64-3.6/bfs.o -o build/lib.linux-x86_64-3.6/_bfs.cpython-36m-x86_64-linux-gnu.so -lgomp\n"
          ],
          "name": "stdout"
        }
      ]
    },
    {
      "cell_type": "code",
      "metadata": {
        "id": "khYiL9xR_lqq",
        "colab_type": "code",
        "colab": {
          "base_uri": "https://localhost:8080/",
          "height": 34
        },
        "outputId": "671e4f26-015f-4d4f-8043-2814714f738a"
      },
      "source": [
        "%cd .."
      ],
      "execution_count": 18,
      "outputs": [
        {
          "output_type": "stream",
          "text": [
            "/content\n"
          ],
          "name": "stdout"
        }
      ]
    },
    {
      "cell_type": "code",
      "metadata": {
        "id": "SctcSz3-_rWx",
        "colab_type": "code",
        "colab": {}
      },
      "source": [
        "from lib1.utils import global_variables"
      ],
      "execution_count": 0,
      "outputs": []
    },
    {
      "cell_type": "code",
      "metadata": {
        "id": "zh-MrNkgf4pH",
        "colab_type": "code",
        "colab": {}
      },
      "source": [
        "from lib1.graph import Graph"
      ],
      "execution_count": 0,
      "outputs": []
    },
    {
      "cell_type": "code",
      "metadata": {
        "id": "OxCezUE7ff0Q",
        "colab_type": "code",
        "colab": {}
      },
      "source": [
        "graph = Graph(**graph_params)"
      ],
      "execution_count": 0,
      "outputs": []
    },
    {
      "cell_type": "code",
      "metadata": {
        "id": "zaB1l_eMmo5g",
        "colab_type": "code",
        "colab": {}
      },
      "source": [
        "\n",
        "total_dcs = 128\n",
        "\n",
        "routing_dcs = 120\n",
        "routing_vector_size = 96\n",
        "verification_top_k = 8\n",
        "\n",
        "architecture = 'gcn'      # 'gcn' or 'ffn' or whatever you define manually\n",
        "max_batches  = 60000       # num training iterations; use float('inf') for unlimited\n",
        "\n",
        "# one cycle learning rate schedule\n",
        "learning_rate_base = 1e-3\n",
        "warmup_steps = 5000\n",
        "decay_rate = 1./3\n",
        "learning_rate_min = 1e-5\n",
        "batch_size = 1024\n",
        "dev_batch_size = 100\n",
        "\n",
        "# batch generator\n",
        "sampling_temperature = 1.0\n",
        "sampling_chunk_size = 10000\n",
        "n_jobs = 8\n",
        "margin = 5"
      ],
      "execution_count": 0,
      "outputs": []
    },
    {
      "cell_type": "code",
      "metadata": {
        "id": "CnO-t7mhnGUQ",
        "colab_type": "code",
        "colab": {
          "base_uri": "https://localhost:8080/",
          "height": 34
        },
        "outputId": "2670c062-8fc5-4314-a7e7-6cfd62d4c1ad"
      },
      "source": [
        "exp_name = '{data_name}_dcs{total_dcs}_{architecture}_size{routing_vector_size}_routing{routing_dcs}_verification{verification_top_k}'.format(\n",
        "    data_name=osp.split(DATA_DIR)[-1], total_dcs=total_dcs, routing_vector_size=routing_vector_size, routing_dcs=routing_dcs,\n",
        "    verification_top_k=verification_top_k, architecture=architecture\n",
        ")\n",
        "print('exp name:', exp_name)\n",
        "!rm {'./runs/' + exp_name} -rf # KEEP COMMENTED!\n",
        "assert not os.path.exists('./runs/' + exp_name)\n",
        "\n",
        "original_vector_size = graph.vertices.shape[-1]\n",
        "is_compressed = (routing_vector_size != graph.vertices.shape[1])\n",
        "if not is_compressed:\n",
        "    projection_cost = 0\n",
        "else:\n",
        "    projection_cost = routing_vector_size \n",
        "sanity_check_dcs = round(routing_dcs * routing_vector_size / original_vector_size + projection_cost + verification_top_k)\n",
        "assert total_dcs == sanity_check_dcs, \"current scheme has {} dcs out of {} required\".format(sanity_check_dcs, total_dcs)"
      ],
      "execution_count": 23,
      "outputs": [
        {
          "output_type": "stream",
          "text": [
            "exp name: DEEP100K_dcs128_gcn_size96_routing120_verification8\n"
          ],
          "name": "stdout"
        }
      ]
    },
    {
      "cell_type": "code",
      "metadata": {
        "id": "RTb0fGnKpK-8",
        "colab_type": "code",
        "colab": {
          "base_uri": "https://localhost:8080/",
          "height": 34
        },
        "outputId": "3f16a6c9-e7c9-493e-b55f-02ecc50af186"
      },
      "source": [
        "import lib1\n",
        "dir(lib1)\n",
        "!pwd\n",
        "from lib1 import hnsw"
      ],
      "execution_count": 24,
      "outputs": [
        {
          "output_type": "stream",
          "text": [
            "/content\n"
          ],
          "name": "stdout"
        }
      ]
    },
    {
      "cell_type": "code",
      "metadata": {
        "id": "jAx6Zstko82A",
        "colab_type": "code",
        "colab": {}
      },
      "source": [
        "hnsw = hnsw.WalkerHNSW(graph, max_dcs=routing_dcs,\n",
        "                           top_vertices_for_verification=verification_top_k,\n",
        "                           distance_for_verification=hnsw.DISTANCES['euclidian'],\n",
        "                           distance_for_routing=hnsw.DISTANCES['negative_dot'],\n",
        "                           hierarchical=False\n",
        ")"
      ],
      "execution_count": 0,
      "outputs": []
    },
    {
      "cell_type": "code",
      "metadata": {
        "id": "Hz1MuPMFpBXg",
        "colab_type": "code",
        "colab": {}
      },
      "source": [
        "\n",
        "from tensorboardX import SummaryWriter\n",
        "from lib1 import walker_agent\n",
        "if architecture == 'gcn':\n",
        "    agent = walker_agent.GCNWalkerAgent(\n",
        "        graph.vertices.shape[1], conv_hid_size=256, hidden_size=1024, output_size=routing_vector_size, \n",
        "        residual=not is_compressed, project_query=is_compressed).to(device='cuda')\n",
        "\n",
        "elif architecture == 'ffn':\n",
        "    agent = walker_agent.SimpleWalkerAgent(\n",
        "        graph.vertices.shape[1], hidden_size=4096, output_size=routing_vector_size, \n",
        "        residual=not is_compressed, project_query=is_compressed).to(device='cuda')\n",
        "\n",
        "else:\n",
        "    raise ValueError(\"Unknown architecture: {}\".format(architecture))\n",
        "\n"
      ],
      "execution_count": 0,
      "outputs": []
    },
    {
      "cell_type": "code",
      "metadata": {
        "id": "ysNLBIDzqjVl",
        "colab_type": "code",
        "colab": {
          "base_uri": "https://localhost:8080/",
          "height": 34
        },
        "outputId": "83088c16-8018-4ea9-fc98-455fbb76780f"
      },
      "source": [
        "from lib1 import ParallelBFS\n",
        "oracle = ParallelBFS(graph_edges=graph.edges)\n",
        "\n",
        "!pwd"
      ],
      "execution_count": 27,
      "outputs": [
        {
          "output_type": "stream",
          "text": [
            "/content\n"
          ],
          "name": "stdout"
        }
      ]
    },
    {
      "cell_type": "code",
      "metadata": {
        "id": "IdeNZ8KJq0cz",
        "colab_type": "code",
        "colab": {}
      },
      "source": [
        "from lib1 import SupervisedWalkerTrainer\n",
        "trainer = SupervisedWalkerTrainer(\n",
        "    agent, hnsw, oracle, writer=SummaryWriter('runs/' + exp_name),\n",
        "    learning_rate_base=learning_rate_base, warmup_steps=warmup_steps,\n",
        "    decay_rate=decay_rate, learning_rate_min=learning_rate_min,\n",
        ")"
      ],
      "execution_count": 0,
      "outputs": []
    },
    {
      "cell_type": "code",
      "metadata": {
        "id": "g3Iy30OsuPM-",
        "colab_type": "code",
        "colab": {
          "base_uri": "https://localhost:8080/",
          "height": 34
        },
        "outputId": "326f10be-08dd-477d-f7a5-23b782c60674"
      },
      "source": [
        "trainer.step"
      ],
      "execution_count": 29,
      "outputs": [
        {
          "output_type": "execute_result",
          "data": {
            "text/plain": [
              "0"
            ]
          },
          "metadata": {
            "tags": []
          },
          "execution_count": 29
        }
      ]
    },
    {
      "cell_type": "code",
      "metadata": {
        "id": "5gBi2oLBq831",
        "colab_type": "code",
        "colab": {}
      },
      "source": [
        "from pandas import DataFrame\n",
        "from IPython.display import clear_output\n",
        "import matplotlib.pyplot as plt\n",
        "%matplotlib inline"
      ],
      "execution_count": 0,
      "outputs": []
    },
    {
      "cell_type": "code",
      "metadata": {
        "id": "xn76MLCqrFGQ",
        "colab_type": "code",
        "colab": {}
      },
      "source": [
        "%matplotlib inline\n",
        "moving_average = lambda x, **kw: DataFrame({'x':np.asarray(x)}).x.ewm(**kw).mean().values\n",
        "train_loss_history, train_acc_history, dev_recall_history, total_dev_recall_history = [], [], [], []"
      ],
      "execution_count": 0,
      "outputs": []
    },
    {
      "cell_type": "code",
      "metadata": {
        "id": "DRsVS387rK4Q",
        "colab_type": "code",
        "colab": {}
      },
      "source": [
        "# generates batches of [queries, ground truth]\n",
        "from lib1 import utils\n",
        "dev_batcher = utils.iterate_minibatches(graph.test_queries, graph.test_gt, batch_size=dev_batch_size)\n",
        "\n",
        "# generates batches of [records] for training\n",
        "train_batcher = trainer.generate_training_batches(\n",
        "    graph.train_queries, graph.train_gt,\n",
        "    queries_per_chunk=sampling_chunk_size, batch_size_max=batch_size,\n",
        "    sampling_temperature=sampling_temperature, n_jobs=n_jobs)"
      ],
      "execution_count": 0,
      "outputs": []
    },
    {
      "cell_type": "code",
      "metadata": {
        "id": "62_RXI-rCLjT",
        "colab_type": "code",
        "colab": {
          "base_uri": "https://localhost:8080/",
          "height": 34
        },
        "outputId": "51e5b5fa-4dc1-4814-b214-9c7db968136a"
      },
      "source": [
        "%cd learning-to-route/"
      ],
      "execution_count": 43,
      "outputs": [
        {
          "output_type": "stream",
          "text": [
            "/content/learning-to-route\n"
          ],
          "name": "stdout"
        }
      ]
    },
    {
      "cell_type": "code",
      "metadata": {
        "id": "oGglxoaZCpwZ",
        "colab_type": "code",
        "colab": {
          "base_uri": "https://localhost:8080/",
          "height": 170
        },
        "outputId": "9a735316-88dc-4a98-c80f-d4465581cb9c"
      },
      "source": [
        "!ls -a\n",
        "!git config --global user.email \"udaymallappa@gmail.com\"\n",
        "!git config --global user.name \"Uday Mallappa\"\n",
        "!git init\n",
        "!git add .\n",
        "!git commit -m \"fixed lib name issues\""
      ],
      "execution_count": 63,
      "outputs": [
        {
          "output_type": "stream",
          "text": [
            ".   .git\timages\t     .ipynb_checkpoints  notebooks  requirements.txt\n",
            "..  .gitignore\t__init__.py  lib1\t\t README.md\n",
            "Reinitialized existing Git repository in /content/learning-to-route/.git/\n",
            "On branch online\n",
            "Your branch is ahead of 'origin/online' by 2 commits.\n",
            "  (use \"git push\" to publish your local commits)\n",
            "\n",
            "nothing to commit, working tree clean\n",
            "fatal: could not read Username for 'https://github.com': No such device or address\n"
          ],
          "name": "stdout"
        }
      ]
    },
    {
      "cell_type": "code",
      "metadata": {
        "id": "SAVdb0uXLNy5",
        "colab_type": "code",
        "colab": {}
      },
      "source": [
        "!git add ."
      ],
      "execution_count": 0,
      "outputs": []
    },
    {
      "cell_type": "code",
      "metadata": {
        "id": "Gmm4sgi3C_Vw",
        "colab_type": "code",
        "colab": {
          "base_uri": "https://localhost:8080/",
          "height": 340
        },
        "outputId": "db93e24d-2421-4e7c-a59f-380413d4de55"
      },
      "source": [
        "!git commit -m \"update2\""
      ],
      "execution_count": 75,
      "outputs": [
        {
          "output_type": "stream",
          "text": [
            "[online 92f8dd1] update2\n",
            " 17 files changed, 0 insertions(+), 0 deletions(-)\n",
            " rename {lib1 => lib}/__init__.py (100%)\n",
            " rename {lib1 => lib}/bfs_swig/__init__.py (100%)\n",
            " rename {lib1 => lib}/bfs_swig/bfs.cc (100%)\n",
            " rename {lib1 => lib}/bfs_swig/bfs.h (100%)\n",
            " rename {lib1 => lib}/bfs_swig/bfs.i (100%)\n",
            " rename {lib1 => lib}/bfs_swig/bfs.py (100%)\n",
            " rename {lib1 => lib}/bfs_swig/bfs_wrap.c (100%)\n",
            " rename {lib1 => lib}/bfs_swig/numpy.i (100%)\n",
            " rename {lib1 => lib}/bfs_swig/setup.py (100%)\n",
            " rename {lib1 => lib}/bfs_swig/test_bfs.py (100%)\n",
            " rename {lib1 => lib}/bfs_swig/wrapper.py (100%)\n",
            " rename {lib1 => lib}/graph.py (100%)\n",
            " rename {lib1 => lib}/hnsw.py (100%)\n",
            " rename {lib1 => lib}/nn_utils.py (100%)\n",
            " rename {lib1 => lib}/utils.py (100%)\n",
            " rename {lib1 => lib}/walker_agent.py (100%)\n",
            " rename {lib1 => lib}/walker_trainer.py (100%)\n"
          ],
          "name": "stdout"
        }
      ]
    },
    {
      "cell_type": "code",
      "metadata": {
        "id": "m8BblxWSMbYk",
        "colab_type": "code",
        "colab": {
          "base_uri": "https://localhost:8080/",
          "height": 51
        },
        "outputId": "ccc286fe-baed-424a-db1c-90a0ab969a77"
      },
      "source": [
        "!git push -f origin master"
      ],
      "execution_count": 77,
      "outputs": [
        {
          "output_type": "stream",
          "text": [
            "error: src refspec master does not match any.\n",
            "error: failed to push some refs to 'https://github.com/udaymallappa/learning-to-route.git'\n"
          ],
          "name": "stdout"
        }
      ]
    },
    {
      "cell_type": "code",
      "metadata": {
        "id": "jDbFjk_DI-1e",
        "colab_type": "code",
        "colab": {
          "base_uri": "https://localhost:8080/",
          "height": 102
        },
        "outputId": "4fb6276e-b962-4319-b68b-09a4bec3238b"
      },
      "source": [
        "!git status"
      ],
      "execution_count": 62,
      "outputs": [
        {
          "output_type": "stream",
          "text": [
            "On branch online\n",
            "Your branch is ahead of 'origin/online' by 2 commits.\n",
            "  (use \"git push\" to publish your local commits)\n",
            "\n",
            "nothing to commit, working tree clean\n"
          ],
          "name": "stdout"
        }
      ]
    },
    {
      "cell_type": "code",
      "metadata": {
        "id": "DxheI66EM73H",
        "colab_type": "code",
        "colab": {
          "base_uri": "https://localhost:8080/",
          "height": 122
        },
        "outputId": "7dd539f0-a0fc-4ab5-ab00-1d6ee935c490"
      },
      "source": [
        "from google.colab import drive\n",
        "drive.mount('/content/drive')"
      ],
      "execution_count": 78,
      "outputs": [
        {
          "output_type": "stream",
          "text": [
            "Go to this URL in a browser: https://accounts.google.com/o/oauth2/auth?client_id=947318989803-6bn6qk8qdgf4n4g3pfee6491hc0brc4i.apps.googleusercontent.com&redirect_uri=urn%3aietf%3awg%3aoauth%3a2.0%3aoob&response_type=code&scope=email%20https%3a%2f%2fwww.googleapis.com%2fauth%2fdocs.test%20https%3a%2f%2fwww.googleapis.com%2fauth%2fdrive%20https%3a%2f%2fwww.googleapis.com%2fauth%2fdrive.photos.readonly%20https%3a%2f%2fwww.googleapis.com%2fauth%2fpeopleapi.readonly\n",
            "\n",
            "Enter your authorization code:\n",
            "··········\n",
            "Mounted at /content/drive\n"
          ],
          "name": "stdout"
        }
      ]
    },
    {
      "cell_type": "code",
      "metadata": {
        "id": "EUcTX93RNIVr",
        "colab_type": "code",
        "colab": {
          "base_uri": "https://localhost:8080/",
          "height": 34
        },
        "outputId": "13364901-43c3-44b8-95f8-7440e6041871"
      },
      "source": [
        "%cd .."
      ],
      "execution_count": 82,
      "outputs": [
        {
          "output_type": "stream",
          "text": [
            "/content\n"
          ],
          "name": "stdout"
        }
      ]
    },
    {
      "cell_type": "code",
      "metadata": {
        "id": "59vY-1gONMfS",
        "colab_type": "code",
        "colab": {
          "base_uri": "https://localhost:8080/",
          "height": 51
        },
        "outputId": "568e8be3-2a2f-4964-9f27-8397263bfdf8"
      },
      "source": [
        "!pwd\n",
        "!ls"
      ],
      "execution_count": 86,
      "outputs": [
        {
          "output_type": "stream",
          "text": [
            "/content\n",
            "data  drive  learning-to-route\truns  sample_data\n"
          ],
          "name": "stdout"
        }
      ]
    },
    {
      "cell_type": "code",
      "metadata": {
        "id": "ed110MR0OFa-",
        "colab_type": "code",
        "colab": {
          "base_uri": "https://localhost:8080/",
          "height": 34
        },
        "outputId": "1656afe8-528f-4bd8-efa1-36cab9a3c010"
      },
      "source": [
        "%cd /content/drive/My Drive/Tree"
      ],
      "execution_count": 90,
      "outputs": [
        {
          "output_type": "stream",
          "text": [
            "/content/drive/My Drive/Tree\n"
          ],
          "name": "stdout"
        }
      ]
    },
    {
      "cell_type": "code",
      "metadata": {
        "id": "q_hjzwrgOw9G",
        "colab_type": "code",
        "colab": {
          "base_uri": "https://localhost:8080/",
          "height": 34
        },
        "outputId": "9907d754-a51c-4060-d1cc-a574da855ab4"
      },
      "source": [
        "!pwd"
      ],
      "execution_count": 91,
      "outputs": [
        {
          "output_type": "stream",
          "text": [
            "/content/drive/My Drive/Tree\n"
          ],
          "name": "stdout"
        }
      ]
    },
    {
      "cell_type": "code",
      "metadata": {
        "id": "1wfvPW1vNlfe",
        "colab_type": "code",
        "colab": {
          "base_uri": "https://localhost:8080/",
          "height": 34
        },
        "outputId": "5ac45451-c8f0-43ae-dc6b-c3bc0d845111"
      },
      "source": [
        "%cd /content/drive/My Drive/Tree"
      ],
      "execution_count": 99,
      "outputs": [
        {
          "output_type": "stream",
          "text": [
            "/content/drive/My Drive/Tree\n"
          ],
          "name": "stdout"
        }
      ]
    },
    {
      "cell_type": "code",
      "metadata": {
        "id": "_LyYMd6AQ2v3",
        "colab_type": "code",
        "colab": {
          "base_uri": "https://localhost:8080/",
          "height": 85
        },
        "outputId": "318d7724-db44-450e-8bd2-2f02073032d1"
      },
      "source": [
        "!ls -a "
      ],
      "execution_count": 100,
      "outputs": [
        {
          "output_type": "stream",
          "text": [
            "bfs.cc\tgraph.py\t   numpy.i\ttemp\t\t walker_trainer.py\n",
            "bfs.h\thnsw.py\t\t   __pycache__\ttest_bfs.py\t wrapper.py\n",
            "bfs.i\tlearning-to-route  search.py\tutils.py\n",
            "data\tnn_utils.py\t   setup.py\twalker_agent.py\n"
          ],
          "name": "stdout"
        }
      ]
    },
    {
      "cell_type": "code",
      "metadata": {
        "id": "owLJgmfMR_RS",
        "colab_type": "code",
        "colab": {
          "base_uri": "https://localhost:8080/",
          "height": 34
        },
        "outputId": "dcd43b9e-85b4-4658-a547-9ce2ccb337fc"
      },
      "source": [
        "!echo \"# graph_route\" >> README.md\n",
        "!git init"
      ],
      "execution_count": 101,
      "outputs": [
        {
          "output_type": "stream",
          "text": [
            "Initialized empty Git repository in /content/drive/My Drive/Tree/.git/\n"
          ],
          "name": "stdout"
        }
      ]
    },
    {
      "cell_type": "code",
      "metadata": {
        "id": "rXO2Cae5SJFJ",
        "colab_type": "code",
        "colab": {
          "base_uri": "https://localhost:8080/",
          "height": 119
        },
        "outputId": "331b5f89-024d-4f84-ae52-23c862296249"
      },
      "source": [
        "!pwd\n",
        "!git init\n",
        "!ls -a"
      ],
      "execution_count": 111,
      "outputs": [
        {
          "output_type": "stream",
          "text": [
            "/content/drive/My Drive/Tree\n",
            "Initialized empty Git repository in /content/drive/My Drive/Tree/.git/\n",
            "bfs.cc\t.git\t\t   nn_utils.py\tsearch.py    utils.py\n",
            "bfs.h\tgraph.py\t   numpy.i\tsetup.py     walker_agent.py\n",
            "bfs.i\thnsw.py\t\t   __pycache__\ttemp\t     walker_trainer.py\n",
            "data\tlearning-to-route  README.md\ttest_bfs.py  wrapper.py\n"
          ],
          "name": "stdout"
        }
      ]
    },
    {
      "cell_type": "code",
      "metadata": {
        "id": "XFDKFVyDSh0K",
        "colab_type": "code",
        "colab": {
          "base_uri": "https://localhost:8080/",
          "height": 255
        },
        "outputId": "360e6d16-1fa4-4848-9278-b9aa1c85efb5"
      },
      "source": [
        "! git add ."
      ],
      "execution_count": 113,
      "outputs": [
        {
          "output_type": "stream",
          "text": [
            "warning: adding embedded git repository: learning-to-route\n",
            "hint: You've added another git repository inside your current repository.\n",
            "hint: Clones of the outer repository will not contain the contents of\n",
            "hint: the embedded repository and will not know how to obtain it.\n",
            "hint: If you meant to add a submodule, use:\n",
            "hint: \n",
            "hint: \tgit submodule add <url> learning-to-route\n",
            "hint: \n",
            "hint: If you added this path by mistake, you can remove it from the\n",
            "hint: index with:\n",
            "hint: \n",
            "hint: \tgit rm --cached learning-to-route\n",
            "hint: \n",
            "hint: See \"git help submodule\" for more information.\n"
          ],
          "name": "stdout"
        }
      ]
    },
    {
      "cell_type": "code",
      "metadata": {
        "id": "qlJnJAP9Sklm",
        "colab_type": "code",
        "colab": {
          "base_uri": "https://localhost:8080/",
          "height": 884
        },
        "outputId": "0e8eff62-5b8d-4246-9c42-476915a8454f"
      },
      "source": [
        "!git commit -m \"first commit\""
      ],
      "execution_count": 114,
      "outputs": [
        {
          "output_type": "stream",
          "text": [
            "[master (root-commit) feb7c98] first commit\n",
            " 49 files changed, 18653 insertions(+)\n",
            " create mode 100644 README.md\n",
            " create mode 100644 __pycache__/graph.cpython-36.pyc\n",
            " create mode 100644 __pycache__/hnsw.cpython-36.pyc\n",
            " create mode 100644 __pycache__/nn_utils.cpython-36.pyc\n",
            " create mode 100644 __pycache__/search.cpython-36.pyc\n",
            " create mode 100644 __pycache__/utils.cpython-36.pyc\n",
            " create mode 100644 __pycache__/walker_agent.cpython-36.pyc\n",
            " create mode 100644 __pycache__/wrapper.cpython-36.pyc\n",
            " create mode 100644 bfs.cc\n",
            " create mode 100644 bfs.h\n",
            " create mode 100644 bfs.i\n",
            " create mode 100644 data/DEEP100K/deep_100k.zip\n",
            " create mode 100644 data/DEEP100K/deep_base.fvecs\n",
            " create mode 100644 data/DEEP100K/deep_base_pca24.fvecs\n",
            " create mode 100644 data/DEEP100K/deep_base_pca48.fvecs\n",
            " create mode 100644 data/DEEP100K/deep_learn.fvecs\n",
            " create mode 100644 data/DEEP100K/deep_learn_pca24.fvecs\n",
            " create mode 100644 data/DEEP100K/deep_learn_pca48.fvecs\n",
            " create mode 100644 data/DEEP100K/deep_query.fvecs\n",
            " create mode 100644 data/DEEP100K/deep_query_pca24.fvecs\n",
            " create mode 100644 data/DEEP100K/deep_query_pca48.fvecs\n",
            " create mode 100644 data/DEEP100K/pca24.bin\n",
            " create mode 100644 data/DEEP100K/pca48.bin\n",
            " create mode 100644 data/DEEP100K/test_gt.ivecs\n",
            " create mode 100644 data/DEEP100K/test_hnsw100k_M8_ef300_onelevel0.bin\n",
            " create mode 100644 data/DEEP100K/test_hnsw100k_M8_ef300_onelevel0.ivecs\n",
            " create mode 100644 data/DEEP100K/test_hnsw100k_M8_ef300_onelevel0_pca24.bin\n",
            " create mode 100644 data/DEEP100K/test_hnsw100k_M8_ef300_onelevel0_pca24.ivecs\n",
            " create mode 100644 data/DEEP100K/test_hnsw100k_M8_ef300_onelevel0_pca48.bin\n",
            " create mode 100644 data/DEEP100K/test_hnsw100k_M8_ef300_onelevel0_pca48.ivecs\n",
            " create mode 100644 data/DEEP100K/test_hnsw100k_M8_ef300_onelevel1.bin\n",
            " create mode 100644 data/DEEP100K/test_hnsw100k_M8_ef300_onelevel1.ivecs\n",
            " create mode 100644 data/DEEP100K/test_hnsw100k_M8_ef300_onelevel1_pca24.bin\n",
            " create mode 100644 data/DEEP100K/test_hnsw100k_M8_ef300_onelevel1_pca24.ivecs\n",
            " create mode 100644 data/DEEP100K/test_hnsw100k_M8_ef300_onelevel1_pca48.bin\n",
            " create mode 100644 data/DEEP100K/test_hnsw100k_M8_ef300_onelevel1_pca48.ivecs\n",
            " create mode 100644 data/DEEP100K/train_gt.ivecs\n",
            " create mode 100644 graph.py\n",
            " create mode 100644 hnsw.py\n",
            " create mode 160000 learning-to-route\n",
            " create mode 100644 nn_utils.py\n",
            " create mode 100644 numpy.i\n",
            " create mode 100644 search.py\n",
            " create mode 100644 setup.py\n",
            " create mode 100644 test_bfs.py\n",
            " create mode 100644 utils.py\n",
            " create mode 100644 walker_agent.py\n",
            " create mode 100644 walker_trainer.py\n",
            " create mode 100644 wrapper.py\n"
          ],
          "name": "stdout"
        }
      ]
    },
    {
      "cell_type": "code",
      "metadata": {
        "id": "OjPEr4yQTWL6",
        "colab_type": "code",
        "colab": {
          "base_uri": "https://localhost:8080/",
          "height": 85
        },
        "outputId": "42adfd7b-1a10-40b5-c33f-0993dfa41d50"
      },
      "source": [
        "!ls -a "
      ],
      "execution_count": 124,
      "outputs": [
        {
          "output_type": "stream",
          "text": [
            "bfs.cc\t.git\t\t   nn_utils.py\tsearch.py    utils.py\n",
            "bfs.h\tgraph.py\t   numpy.i\tsetup.py     walker_agent.py\n",
            "bfs.i\thnsw.py\t\t   __pycache__\ttemp\t     walker_trainer.py\n",
            "data\tlearning-to-route  README.md\ttest_bfs.py  wrapper.py\n"
          ],
          "name": "stdout"
        }
      ]
    },
    {
      "cell_type": "code",
      "metadata": {
        "id": "EKW8y_L5Tve9",
        "colab_type": "code",
        "colab": {}
      },
      "source": [
        "!git remote rm origin"
      ],
      "execution_count": 0,
      "outputs": []
    },
    {
      "cell_type": "code",
      "metadata": {
        "id": "6raQdgSIVytr",
        "colab_type": "code",
        "colab": {}
      },
      "source": [
        "!git config --global user.name \"Uday Mallappa\"\n",
        "!git config --global user.email udaymallappa@gmail.com"
      ],
      "execution_count": 0,
      "outputs": []
    },
    {
      "cell_type": "code",
      "metadata": {
        "id": "W5Osiv5-XJo3",
        "colab_type": "code",
        "colab": {}
      },
      "source": [
        "!git remote set-url origin git@github.com:udaymallappa/graph_route.git"
      ],
      "execution_count": 0,
      "outputs": []
    },
    {
      "cell_type": "code",
      "metadata": {
        "id": "6-fDawKxTY4Z",
        "colab_type": "code",
        "colab": {
          "base_uri": "https://localhost:8080/",
          "height": 34
        },
        "outputId": "08010823-f159-4c1e-bf52-8e5082329710"
      },
      "source": [
        ""
      ],
      "execution_count": 134,
      "outputs": [
        {
          "output_type": "stream",
          "text": [
            "fatal: could not read Username for 'https://github.com': No such device or address\n"
          ],
          "name": "stdout"
        }
      ]
    },
    {
      "cell_type": "code",
      "metadata": {
        "id": "Rqo3VTWusDgG",
        "colab_type": "code",
        "colab": {
          "base_uri": "https://localhost:8080/",
          "height": 684
        },
        "outputId": "37b39a60-5d2f-442d-95d4-1518a81d29b3"
      },
      "source": [
        "!pwd\n",
        "max_batches\n",
        "trainer.step\n",
        "for batch_records in train_batcher:\n",
        "  print('hi')\n"
      ],
      "execution_count": 37,
      "outputs": [
        {
          "output_type": "stream",
          "text": [
            "/content\n",
            "Precomputing initial vertices... Done!\n",
            "\n",
            "Generating new batch of trajectories... "
          ],
          "name": "stdout"
        },
        {
          "output_type": "error",
          "ename": "NameError",
          "evalue": "ignored",
          "traceback": [
            "\u001b[0;31m---------------------------------------------------------------------------\u001b[0m",
            "\u001b[0;31mNameError\u001b[0m                                 Traceback (most recent call last)",
            "\u001b[0;32m<ipython-input-37-638ae0e84868>\u001b[0m in \u001b[0;36m<module>\u001b[0;34m()\u001b[0m\n\u001b[1;32m      2\u001b[0m \u001b[0mmax_batches\u001b[0m\u001b[0;34m\u001b[0m\u001b[0;34m\u001b[0m\u001b[0m\n\u001b[1;32m      3\u001b[0m \u001b[0mtrainer\u001b[0m\u001b[0;34m.\u001b[0m\u001b[0mstep\u001b[0m\u001b[0;34m\u001b[0m\u001b[0;34m\u001b[0m\u001b[0m\n\u001b[0;32m----> 4\u001b[0;31m \u001b[0;32mfor\u001b[0m \u001b[0mbatch_records\u001b[0m \u001b[0;32min\u001b[0m \u001b[0mtrain_batcher\u001b[0m\u001b[0;34m:\u001b[0m\u001b[0;34m\u001b[0m\u001b[0;34m\u001b[0m\u001b[0m\n\u001b[0m\u001b[1;32m      5\u001b[0m   \u001b[0mprint\u001b[0m\u001b[0;34m(\u001b[0m\u001b[0;34m'hi'\u001b[0m\u001b[0;34m)\u001b[0m\u001b[0;34m\u001b[0m\u001b[0;34m\u001b[0m\u001b[0m\n",
            "\u001b[0;32m/content/learning-to-route/lib1/walker_trainer.py\u001b[0m in \u001b[0;36mgenerate_training_batches\u001b[0;34m(self, queries, ground_truth, initial_vertices, queries_per_chunk, batch_size_max, n_jobs, cycle, shuffle, verbose, **kwargs)\u001b[0m\n\u001b[1;32m    170\u001b[0m                                             \u001b[0minitial_vertices\u001b[0m\u001b[0;34m=\u001b[0m\u001b[0mchunk_initial_vertices\u001b[0m\u001b[0;34m.\u001b[0m\u001b[0mdata\u001b[0m\u001b[0;34m.\u001b[0m\u001b[0mnumpy\u001b[0m\u001b[0;34m(\u001b[0m\u001b[0;34m)\u001b[0m\u001b[0;34m,\u001b[0m\u001b[0;34m\u001b[0m\u001b[0;34m\u001b[0m\u001b[0m\n\u001b[1;32m    171\u001b[0m                                             \u001b[0mground_truth\u001b[0m\u001b[0;34m=\u001b[0m\u001b[0mchunk_gt\u001b[0m\u001b[0;34m.\u001b[0m\u001b[0mdata\u001b[0m\u001b[0;34m.\u001b[0m\u001b[0mnumpy\u001b[0m\u001b[0;34m(\u001b[0m\u001b[0;34m)\u001b[0m\u001b[0;34m[\u001b[0m\u001b[0;34m:\u001b[0m\u001b[0;34m,\u001b[0m \u001b[0;36m0\u001b[0m\u001b[0;34m]\u001b[0m\u001b[0;34m,\u001b[0m\u001b[0;34m\u001b[0m\u001b[0;34m\u001b[0m\u001b[0m\n\u001b[0;32m--> 172\u001b[0;31m                                             n_jobs=n_jobs, device=self.device, **kwargs)\n\u001b[0m\u001b[1;32m    173\u001b[0m             \u001b[0;32mif\u001b[0m \u001b[0mverbose\u001b[0m\u001b[0;34m:\u001b[0m\u001b[0;34m\u001b[0m\u001b[0;34m\u001b[0m\u001b[0m\n\u001b[1;32m    174\u001b[0m                 \u001b[0mprint\u001b[0m\u001b[0;34m(\u001b[0m\u001b[0;34m\"Done!\"\u001b[0m\u001b[0;34m,\u001b[0m \u001b[0mflush\u001b[0m\u001b[0;34m=\u001b[0m\u001b[0;32mTrue\u001b[0m\u001b[0;34m)\u001b[0m\u001b[0;34m\u001b[0m\u001b[0;34m\u001b[0m\u001b[0m\n",
            "\u001b[0;32m/content/learning-to-route/lib1/walker_trainer.py\u001b[0m in \u001b[0;36mgenerate_records\u001b[0;34m(self, queries, initial_vertices, ground_truth, batch_size, n_jobs, timeout, **kwargs)\u001b[0m\n\u001b[1;32m    189\u001b[0m         \u001b[0magent\u001b[0m\u001b[0;34m,\u001b[0m \u001b[0mhnsw\u001b[0m\u001b[0;34m,\u001b[0m \u001b[0moracle\u001b[0m \u001b[0;34m=\u001b[0m \u001b[0mself\u001b[0m\u001b[0;34m.\u001b[0m\u001b[0magent\u001b[0m\u001b[0;34m,\u001b[0m \u001b[0mself\u001b[0m\u001b[0;34m.\u001b[0m\u001b[0mhnsw\u001b[0m\u001b[0;34m,\u001b[0m \u001b[0mself\u001b[0m\u001b[0;34m.\u001b[0m\u001b[0moracle\u001b[0m\u001b[0;34m\u001b[0m\u001b[0;34m\u001b[0m\u001b[0m\n\u001b[1;32m    190\u001b[0m         query_vectors, vertex_id_to_vectors = prepare_vectors(agent, hnsw.graph, queries,\n\u001b[0;32m--> 191\u001b[0;31m                                                               batch_size=batch_size, **kwargs)\n\u001b[0m\u001b[1;32m    192\u001b[0m \u001b[0;34m\u001b[0m\u001b[0m\n\u001b[1;32m    193\u001b[0m         \u001b[0;32mwith\u001b[0m \u001b[0mglobal_variables\u001b[0m\u001b[0;34m(\u001b[0m\u001b[0mhnsw\u001b[0m\u001b[0;34m=\u001b[0m\u001b[0mhnsw\u001b[0m\u001b[0;34m,\u001b[0m \u001b[0mvertex_id_to_vectors\u001b[0m\u001b[0;34m=\u001b[0m\u001b[0mvertex_id_to_vectors\u001b[0m\u001b[0;34m,\u001b[0m \u001b[0moracle\u001b[0m\u001b[0;34m=\u001b[0m\u001b[0moracle\u001b[0m\u001b[0;34m)\u001b[0m\u001b[0;34m:\u001b[0m\u001b[0;34m\u001b[0m\u001b[0;34m\u001b[0m\u001b[0m\n",
            "\u001b[0;32m/content/learning-to-route/lib1/walker_trainer.py\u001b[0m in \u001b[0;36mprepare_vectors\u001b[0;34m(agent, graph, queries, batch_size, **kwargs)\u001b[0m\n\u001b[1;32m    235\u001b[0m         \u001b[0mquery_vectors\u001b[0m \u001b[0;34m=\u001b[0m \u001b[0mnp\u001b[0m\u001b[0;34m.\u001b[0m\u001b[0mvstack\u001b[0m\u001b[0;34m(\u001b[0m\u001b[0mquery_vectors\u001b[0m\u001b[0;34m)\u001b[0m\u001b[0;34m\u001b[0m\u001b[0;34m\u001b[0m\u001b[0m\n\u001b[1;32m    236\u001b[0m \u001b[0;34m\u001b[0m\u001b[0m\n\u001b[0;32m--> 237\u001b[0;31m         vertex_id_to_vectors = walker_agent.PrecomputedWalkerAgent(agent).prepare_state(\n\u001b[0m\u001b[1;32m    238\u001b[0m             graph, state=state, batch_size=batch_size, **kwargs).vertex_vectors\n\u001b[1;32m    239\u001b[0m     \u001b[0;32mreturn\u001b[0m \u001b[0mquery_vectors\u001b[0m\u001b[0;34m,\u001b[0m \u001b[0mvertex_id_to_vectors\u001b[0m\u001b[0;34m\u001b[0m\u001b[0;34m\u001b[0m\u001b[0m\n",
            "\u001b[0;31mNameError\u001b[0m: name 'lib' is not defined"
          ]
        }
      ]
    },
    {
      "cell_type": "code",
      "metadata": {
        "id": "5Od4pG2wrNLA",
        "colab_type": "code",
        "colab": {}
      },
      "source": [
        "for batch_records in train_batcher:\n",
        "    print('Hello')\n",
        "    metrics_t = trainer.train_on_batch(batch_records)\n",
        "    train_loss_history.append(metrics_t['loss'].item())\n",
        "    train_acc_history.append(metrics_t['acc'].item())\n",
        "    print(end='.')\n",
        "    print(trainer.step)\n",
        "    if trainer.step % 100 == 0:\n",
        "        dev_metrics_t = trainer.compute_dev_metrics_on_batch(*next(dev_batcher))\n",
        "        dev_recall_history.append(dev_metrics_t['recall'])\n",
        "    \n",
        "    if trainer.step % 5000 == 0:\n",
        "        print(end=\"Saving...\")\n",
        "        torch.save(agent, \"runs/{}/agent.{}.pth\".format(exp_name, trainer.step))\n",
        "        torch.save(trainer.opt, \"runs/{}/opt.{}.pth\".format(exp_name, trainer.step))\n",
        "        print('Done!')\n",
        "        print('Compute metrics for all test queries...')\n",
        "        total_dev_metrics_t = trainer.compute_dev_metrics_on_batch(graph.test_queries, graph.test_gt, prefix='/total_dev')\n",
        "        total_dev_recall_history.append(total_dev_metrics_t['recall'])\n",
        "        print('Done')\n",
        "        \n",
        "    if trainer.step % 100 == 0:\n",
        "        clear_output(True)\n",
        "        plt.figure(figsize=[18, 6])\n",
        "        plt.subplot(1, 3, 1)\n",
        "        plt.title('train loss over time'); plt.grid();\n",
        "        plt.plot(moving_average(train_loss_history, span=50))\n",
        "        plt.scatter(range(len(train_loss_history)), train_loss_history, alpha=0.1)\n",
        "        plt.subplot(1, 3, 2)\n",
        "        plt.title('train acc over time'); plt.grid();\n",
        "        plt.plot(moving_average(train_acc_history, span=50))\n",
        "        plt.scatter(range(len(train_acc_history)), train_acc_history, alpha=0.1)\n",
        "        plt.subplot(1, 3, 3)\n",
        "        plt.title('dev recall over time'); plt.grid();\n",
        "        plt.plot(moving_average(dev_recall_history, span=10))\n",
        "        plt.scatter(range(len(dev_recall_history)), dev_recall_history, alpha=0.1)\n",
        "        plt.plot(50*(np.arange(len(total_dev_recall_history)) + 1), total_dev_recall_history, c='r')\n",
        "        plt.show()\n",
        "        \n",
        "        print(\"step=%i, mean_loss=%.3f, time=%.3f\" % \n",
        "              (len(train_loss_history), np.mean(train_loss_history[-100:]), metrics_t['step_time']))\n",
        "        print('_' * 100)\n",
        "    \n",
        "    if trainer.step > max_batches: break\n"
      ],
      "execution_count": 0,
      "outputs": []
    },
    {
      "cell_type": "code",
      "metadata": {
        "id": "I53bwsV5rcrx",
        "colab_type": "code",
        "colab": {}
      },
      "source": [
        "def compute_recalls(queries, gt, hnsw=hnsw, agent=agent, wrap=lambda x:x, **kwargs):\n",
        "    \"\"\" Compute recall, mean distance computations and mean number of hops \"\"\"\n",
        "    with torch.no_grad():\n",
        "        state = agent.prepare_state(graph, device='cuda')\n",
        "        predictions = [hnsw.find_nearest(q, state=state, agent=agent) for q in wrap(queries)]\n",
        "        \n",
        "    answers = [prediction['best_vertex_id'] for prediction in predictions]\n",
        "    mean_recall = np.mean([best in gt for best, gt in zip(answers, gt)])\n",
        "    distances = [prediction['routing_dcs'] for prediction in predictions]\n",
        "    hops = [prediction['num_hops'] for prediction in predictions]\n",
        "    return dict(recall=mean_recall, dcs=np.mean(distances), hops=np.mean(hops))"
      ],
      "execution_count": 0,
      "outputs": []
    },
    {
      "cell_type": "code",
      "metadata": {
        "id": "4DcOGZjRsXTR",
        "colab_type": "code",
        "colab": {}
      },
      "source": [
        ""
      ],
      "execution_count": 0,
      "outputs": []
    }
  ]
}